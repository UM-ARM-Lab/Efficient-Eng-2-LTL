{
 "cells": [
  {
   "cell_type": "markdown",
   "metadata": {},
   "source": [
    "## Load"
   ]
  },
  {
   "cell_type": "code",
   "execution_count": 1,
   "metadata": {},
   "outputs": [],
   "source": [
    "import json"
   ]
  },
  {
   "cell_type": "code",
   "execution_count": 2,
   "metadata": {},
   "outputs": [],
   "source": [
    "with open(\"raw/ltl.txt\", \"r\") as f:\n",
    "    raw_ltls = f.read().splitlines()\n",
    "    unique_ltls = set(raw_ltls)\n",
    "with open(\"raw/eng.txt\", 'r') as f:\n",
    "    raw_engs = f.read().splitlines()\n",
    "\n",
    "DPs = []\n",
    "for ltl, eng in zip(raw_ltls, raw_engs):\n",
    "    DPs.append({'ltl': ltl, 'eng': eng})"
   ]
  },
  {
   "cell_type": "code",
   "execution_count": 3,
   "metadata": {},
   "outputs": [
    {
     "name": "stdout",
     "output_type": "stream",
     "text": [
      "F ( red_room )\n",
      "F ( blue_room )\n",
      "F ( landmark_2 )\n",
      "F ( landmark_1 )\n",
      "F ( landmark_3 )\n",
      "F ( green_room )\n",
      "F ( purple_room )\n",
      "F ( orange_room )\n",
      "F ( third_floor )\n",
      "F ( yellow_room )\n",
      "F ( first_floor )\n",
      "F ( second_floor )\n",
      "F ( red_room & ~ blue_room )\n",
      "F ( red_room & ~ landmark_3 )\n",
      "F ( red_room & ~ landmark_1 )\n",
      "F ( landmark_3 & ~ red_room )\n",
      "F ( landmark_1 & ~ red_room )\n",
      "F ( green_room & ~ red_room )\n",
      "F ( landmark_2 & ~ red_room )\n",
      "F ( red_room & ~ green_room )\n",
      "F ( red_room & ~ landmark_2 )\n",
      "F ( blue_room & ~ landmark_1 )\n",
      "F ( landmark_2 & ~ blue_room )\n",
      "F ( red_room & ~ yellow_room )\n",
      "F ( orange_room & ~ red_room )\n",
      "F ( purple_room & ~ red_room )\n",
      "F ( third_floor & ~ red_room )\n",
      "F ( first_floor & ~ red_room )\n",
      "F ( landmark_3 & ~ blue_room )\n",
      "F ( blue_room & ~ landmark_3 )\n",
      "F ( red_room & ~ orange_room )\n",
      "F ( green_room & ~ blue_room )\n",
      "F ( landmark_1 & ~ blue_room )\n",
      "F ( yellow_room & ~ red_room )\n",
      "~ ( red_room ) U ( blue_room )\n",
      "F ( red_room & ~ purple_room )\n",
      "F ( blue_room & ~ landmark_2 )\n",
      "F ( landmark_2 & ~ green_room )\n",
      "F ( yellow_room & ~ blue_room )\n",
      "~ ( landmark_2 ) U ( red_room )\n",
      "~ ( red_room ) U ( landmark_3 )\n",
      "F ( landmark_1 & ~ green_room )\n",
      "~ ( green_room ) U ( red_room )\n",
      "~ ( red_room ) U ( landmark_2 )\n",
      "F ( purple_room & ~ blue_room )\n",
      "F ( landmark_3 & ~ green_room )\n",
      "F ( green_room & ~ landmark_1 )\n",
      "F ( green_room & ~ landmark_2 )\n",
      "F ( landmark_3 & ~ landmark_1 )\n",
      "~ ( landmark_1 ) U ( red_room )\n",
      "F ( landmark_2 & ~ landmark_3 )\n",
      "F ( third_floor & ~ blue_room )\n",
      "~ ( red_room ) U ( landmark_1 )\n",
      "~ ( red_room ) U ( green_room )\n",
      "F ( second_floor & ~ red_room )\n",
      "F ( landmark_2 & ~ landmark_1 )\n",
      "F ( orange_room & ~ blue_room )\n",
      "F ( landmark_1 & ~ landmark_3 )\n",
      "~ ( landmark_3 ) U ( red_room )\n",
      "F ( green_room & ~ landmark_3 )\n",
      "F ( first_floor & ~ blue_room )\n",
      "F ( landmark_2 & ~ yellow_room )\n",
      "~ ( red_room ) U ( purple_room )\n",
      "~ ( green_room ) U ( blue_room )\n",
      "F ( purple_room & ~ landmark_1 )\n",
      "F ( third_floor & ~ landmark_3 )\n",
      "~ ( purple_room ) U ( red_room )\n",
      "~ ( blue_room ) U ( landmark_2 )\n",
      "F ( green_room & ~ purple_room )\n",
      "F ( green_room & ~ yellow_room )\n",
      "F ( third_floor & ~ landmark_2 )\n",
      "~ ( orange_room ) U ( red_room )\n",
      "F ( landmark_1 & ~ orange_room )\n",
      "~ ( red_room ) U ( orange_room )\n",
      "F ( yellow_room & ~ landmark_2 )\n",
      "F ( landmark_3 & ~ purple_room )\n",
      "F ( orange_room & ~ landmark_3 )\n",
      "F ( orange_room & ~ landmark_2 )\n",
      "F ( landmark_2 & ~ orange_room )\n",
      "F ( yellow_room & ~ green_room )\n",
      "F ( first_floor & ~ landmark_2 )\n",
      "~ ( blue_room ) U ( landmark_3 )\n",
      "F ( landmark_1 & ~ yellow_room )\n",
      "F ( orange_room & ~ landmark_1 )\n",
      "F ( yellow_room & ~ landmark_1 )\n",
      "F ( landmark_2 & ~ purple_room )\n",
      "F ( landmark_1 & ~ purple_room )\n",
      "~ ( yellow_room ) U ( red_room )\n",
      "F ( second_floor & ~ blue_room )\n",
      "F ( yellow_room & ~ landmark_3 )\n",
      "F ( green_room & ~ orange_room )\n",
      "~ ( landmark_1 ) U ( blue_room )\n",
      "~ ( red_room ) U ( third_floor )\n",
      "~ ( blue_room ) U ( landmark_1 )\n",
      "F ( landmark_3 & ~ orange_room )\n",
      "~ ( red_room ) U ( yellow_room )\n",
      "F ( first_floor & ~ green_room )\n",
      "F ( third_floor & ~ green_room )\n",
      "F ( orange_room & ~ green_room )\n",
      "F ( first_floor & ~ landmark_1 )\n",
      "~ ( landmark_3 ) U ( blue_room )\n",
      "F ( purple_room & ~ landmark_3 )\n",
      "F ( landmark_3 & ~ yellow_room )\n",
      "~ ( red_room ) U ( first_floor )\n",
      "~ ( landmark_2 ) U ( blue_room )\n",
      "F ( purple_room & ~ landmark_2 )\n",
      "F ( first_floor & ~ landmark_3 )\n",
      "F ( blue_room & F ( red_room ) )\n",
      "F ( third_floor & ~ landmark_1 )\n",
      "F ( purple_room & ~ green_room )\n",
      "F ( yellow_room & ~ orange_room )\n",
      "F ( green_room & F ( red_room ) )\n",
      "F ( second_floor & ~ landmark_3 )\n",
      "~ ( green_room ) U ( landmark_2 )\n",
      "~ ( green_room ) U ( landmark_3 )\n",
      "F ( landmark_2 & F ( red_room ) )\n",
      "~ ( orange_room ) U ( blue_room )\n",
      "F ( third_floor & ~ yellow_room )\n",
      "~ ( landmark_1 ) U ( landmark_3 )\n",
      "F ( landmark_3 ) & G ( red_room )\n",
      "F ( landmark_2 ) & G ( red_room )\n",
      "F ( third_floor & ~ purple_room )\n",
      "~ ( purple_room ) U ( blue_room )\n",
      "~ ( landmark_3 ) U ( landmark_1 )\n",
      "F ( orange_room & ~ yellow_room )\n",
      "F ( second_floor & ~ landmark_2 )\n",
      "F ( red_room & F ( landmark_2 ) )\n",
      "F ( landmark_1 & F ( red_room ) )\n",
      "~ ( green_room ) U ( landmark_1 )\n",
      "~ ( landmark_1 ) U ( green_room )\n",
      "F ( second_floor & ~ landmark_1 )\n",
      "~ ( landmark_2 ) U ( green_room )\n",
      "F ( red_room & F ( landmark_3 ) )\n",
      "F ( first_floor & ~ yellow_room )\n",
      "F ( landmark_1 ) & G ( red_room )\n",
      "~ ( landmark_1 ) U ( landmark_2 )\n",
      "F ( first_floor & ~ orange_room )\n",
      "F ( red_room & F ( green_room ) )\n",
      "F ( yellow_room & ~ purple_room )\n",
      "~ ( blue_room ) U ( first_floor )\n",
      "~ ( landmark_3 ) U ( landmark_2 )\n",
      "F ( purple_room & ~ orange_room )\n",
      "~ ( blue_room ) U ( third_floor )\n",
      "~ ( landmark_3 ) U ( green_room )\n",
      "F ( first_floor & ~ purple_room )\n",
      "F ( red_room & F ( landmark_1 ) )\n",
      "F ( orange_room & ~ purple_room )\n",
      "F ( third_floor & ~ orange_room )\n",
      "~ ( red_room ) U ( second_floor )\n",
      "~ ( yellow_room ) U ( blue_room )\n",
      "F ( purple_room & ~ yellow_room )\n",
      "F ( landmark_3 & F ( red_room ) )\n",
      "F ( second_floor & ~ green_room )\n",
      "F ( second_floor & ~ purple_room )\n",
      "~ ( landmark_1 ) U ( yellow_room )\n",
      "~ ( yellow_room ) U ( green_room )\n",
      "~ ( green_room ) U ( yellow_room )\n",
      "~ ( purple_room ) U ( landmark_2 )\n",
      "F ( orange_room & F ( red_room ) )\n",
      "F ( landmark_2 ) & G ( blue_room )\n",
      "F ( landmark_3 ) & G ( blue_room )\n",
      "~ ( purple_room ) U ( green_room )\n",
      "~ ( orange_room ) U ( landmark_3 )\n",
      "~ ( yellow_room ) U ( landmark_3 )\n",
      "~ ( landmark_1 ) U ( orange_room )\n",
      "~ ( landmark_3 ) U ( yellow_room )\n",
      "~ ( landmark_2 ) U ( yellow_room )\n",
      "F ( blue_room & F ( landmark_1 ) )\n",
      "F ( purple_room & F ( red_room ) )\n",
      "~ ( yellow_room ) U ( landmark_2 )\n",
      "F ( first_floor & F ( red_room ) )\n",
      "F ( blue_room & F ( green_room ) )\n",
      "F ( red_room & F ( first_floor ) )\n",
      "~ ( green_room ) U ( third_floor )\n",
      "~ ( landmark_2 ) U ( purple_room )\n",
      "~ ( landmark_1 ) U ( purple_room )\n",
      "F ( red_room ) & G ( first_floor )\n",
      "F ( red_room & F ( purple_room ) )\n",
      "~ ( green_room ) U ( first_floor )\n",
      "F ( blue_room & F ( landmark_2 ) )\n",
      "F ( red_room & F ( third_floor ) )\n",
      "~ ( yellow_room ) U ( landmark_1 )\n",
      "~ ( blue_room ) U ( second_floor )\n",
      "~ ( orange_room ) U ( green_room )\n",
      "~ ( landmark_2 ) U ( orange_room )\n",
      "~ ( landmark_3 ) U ( purple_room )\n",
      "F ( red_room ) & G ( third_floor )\n",
      "~ ( landmark_3 ) U ( orange_room )\n",
      "F ( third_floor & F ( red_room ) )\n",
      "~ ( green_room ) U ( orange_room )\n",
      "~ ( green_room ) U ( purple_room )\n",
      "F ( landmark_1 ) & G ( blue_room )\n",
      "F ( landmark_2 & F ( blue_room ) )\n",
      "F ( landmark_3 & F ( blue_room ) )\n",
      "F ( red_room & F ( yellow_room ) )\n",
      "F ( blue_room & F ( landmark_3 ) )\n",
      "~ ( orange_room ) U ( landmark_1 )\n",
      "F ( second_floor & ~ orange_room )\n",
      "~ ( purple_room ) U ( landmark_3 )\n",
      "F ( landmark_1 & F ( blue_room ) )\n",
      "F ( yellow_room & F ( red_room ) )\n",
      "F ( red_room & F ( orange_room ) )\n",
      "~ ( orange_room ) U ( landmark_2 )\n",
      "~ ( purple_room ) U ( landmark_1 )\n",
      "F ( second_floor & ~ yellow_room )\n",
      "F ( blue_room ) & G ( third_floor )\n",
      "~ ( orange_room ) U ( yellow_room )\n",
      "F ( landmark_3 & F ( green_room ) )\n",
      "~ ( orange_room ) U ( third_floor )\n",
      "F ( green_room & F ( landmark_2 ) )\n",
      "F ( third_floor & F ( blue_room ) )\n",
      "F ( landmark_3 & F ( landmark_1 ) )\n",
      "~ ( orange_room ) U ( first_floor )\n",
      "F ( landmark_3 ) & G ( green_room )\n",
      "~ ( green_room ) U ( second_floor )\n",
      "F ( blue_room ) & G ( first_floor )\n",
      "F ( landmark_1 & F ( landmark_3 ) )\n",
      "F ( blue_room & F ( yellow_room ) )\n",
      "F ( landmark_1 & F ( landmark_2 ) )\n",
      "~ ( purple_room ) U ( yellow_room )\n",
      "~ ( orange_room ) U ( purple_room )\n",
      "F ( blue_room & F ( first_floor ) )\n",
      "~ ( yellow_room ) U ( purple_room )\n",
      "~ ( yellow_room ) U ( orange_room )\n",
      "~ ( purple_room ) U ( third_floor )\n",
      "F ( landmark_2 ) & G ( green_room )\n",
      "F ( landmark_2 & F ( green_room ) )\n",
      "F ( landmark_3 & F ( landmark_2 ) )\n",
      "F ( blue_room & F ( purple_room ) )\n",
      "~ ( purple_room ) U ( orange_room )\n",
      "~ ( yellow_room ) U ( first_floor )\n",
      "~ ( yellow_room ) U ( third_floor )\n",
      "F ( first_floor & F ( blue_room ) )\n",
      "F ( second_floor & F ( red_room ) )\n",
      "F ( landmark_1 ) & G ( green_room )\n",
      "F ( red_room ) & G ( second_floor )\n",
      "F ( green_room & F ( landmark_1 ) )\n",
      "F ( blue_room & F ( orange_room ) )\n",
      "F ( landmark_1 & F ( green_room ) )\n",
      "F ( red_room & F ( second_floor ) )\n",
      "~ ( purple_room ) U ( first_floor )\n",
      "F ( blue_room & F ( third_floor ) )\n",
      "F ( green_room & F ( landmark_3 ) )\n",
      "F ( landmark_3 ) & G ( third_floor )\n",
      "F ( landmark_3 ) & G ( purple_room )\n",
      "F ( landmark_1 & F ( purple_room ) )\n",
      "F ( landmark_1 ) & G ( yellow_room )\n",
      "F ( landmark_2 ) & G ( orange_room )\n",
      "F ( green_room ) & G ( third_floor )\n",
      "F ( third_floor & F ( landmark_1 ) )\n",
      "F ( green_room & F ( third_floor ) )\n",
      "F ( orange_room & F ( landmark_3 ) )\n",
      "F ( landmark_3 & F ( purple_room ) )\n",
      "F ( yellow_room & F ( landmark_1 ) )\n",
      "F ( landmark_2 & F ( orange_room ) )\n",
      "F ( third_floor & F ( green_room ) )\n",
      "F ( orange_room & F ( green_room ) )\n",
      "F ( landmark_2 ) & G ( purple_room )\n",
      "F ( landmark_1 & F ( orange_room ) )\n",
      "F ( landmark_1 ) & G ( first_floor )\n",
      "F ( landmark_1 & F ( yellow_room ) )\n",
      "F ( landmark_3 & F ( yellow_room ) )\n",
      "F ( landmark_2 ) & G ( yellow_room )\n",
      "F ( yellow_room & F ( landmark_2 ) )\n",
      "F ( first_floor & F ( landmark_1 ) )\n",
      "F ( green_room ) & G ( first_floor )\n",
      "F ( purple_room & F ( landmark_3 ) )\n",
      "F ( third_floor & F ( landmark_3 ) )\n",
      "F ( orange_room & F ( landmark_1 ) )\n",
      "~ ( purple_room ) U ( second_floor )\n",
      "F ( third_floor & F ( landmark_2 ) )\n",
      "F ( landmark_1 ) & G ( orange_room )\n",
      "F ( first_floor & F ( landmark_3 ) )\n",
      "F ( landmark_3 ) & G ( first_floor )\n",
      "F ( blue_room & F ( second_floor ) )\n",
      "F ( green_room & F ( purple_room ) )\n",
      "F ( green_room & F ( yellow_room ) )\n",
      "~ ( yellow_room ) U ( second_floor )\n",
      "F ( landmark_2 & F ( first_floor ) )\n",
      "F ( purple_room & F ( landmark_1 ) )\n",
      "F ( landmark_3 & F ( third_floor ) )\n",
      "F ( landmark_3 & F ( orange_room ) )\n",
      "F ( landmark_3 ) & G ( yellow_room )\n",
      "F ( green_room & F ( first_floor ) )\n",
      "F ( first_floor & F ( landmark_2 ) )\n",
      "F ( landmark_3 & F ( first_floor ) )\n",
      "F ( landmark_1 & F ( first_floor ) )\n",
      "F ( landmark_1 ) & G ( third_floor )\n",
      "F ( landmark_1 & F ( third_floor ) )\n",
      "F ( yellow_room & F ( green_room ) )\n",
      "F ( second_floor & F ( blue_room ) )\n",
      "F ( blue_room ) & G ( second_floor )\n",
      "F ( landmark_1 ) & G ( purple_room )\n",
      "F ( landmark_2 & F ( yellow_room ) )\n",
      "F ( first_floor & F ( green_room ) )\n",
      "F ( landmark_3 ) & G ( orange_room )\n",
      "F ( landmark_2 & F ( third_floor ) )\n",
      "F ( purple_room & F ( landmark_2 ) )\n",
      "F ( landmark_2 & F ( purple_room ) )\n",
      "F ( orange_room & F ( landmark_2 ) )\n",
      "F ( landmark_2 ) & G ( third_floor )\n",
      "F ( purple_room & F ( green_room ) )\n",
      "F ( landmark_2 ) & G ( first_floor )\n",
      "F ( green_room & F ( orange_room ) )\n",
      "F ( yellow_room & F ( landmark_3 ) )\n",
      "~ ( orange_room ) U ( second_floor )\n",
      "F ( orange_room ) & G ( third_floor )\n",
      "F ( orange_room & F ( third_floor ) )\n",
      "F ( yellow_room & F ( orange_room ) )\n",
      "F ( first_floor & F ( yellow_room ) )\n",
      "F ( purple_room ) & G ( first_floor )\n",
      "F ( third_floor & F ( purple_room ) )\n",
      "F ( orange_room & F ( purple_room ) )\n",
      "F ( green_room ) & G ( second_floor )\n",
      "F ( yellow_room & F ( third_floor ) )\n",
      "F ( landmark_2 & F ( second_floor ) )\n",
      "F ( orange_room & F ( yellow_room ) )\n",
      "F ( second_floor & F ( green_room ) )\n",
      "F ( purple_room ) & G ( third_floor )\n",
      "F ( yellow_room & F ( first_floor ) )\n",
      "F ( purple_room & F ( yellow_room ) )\n",
      "F ( second_floor & F ( landmark_3 ) )\n",
      "F ( landmark_2 ) & G ( second_floor )\n",
      "F ( yellow_room ) & G ( third_floor )\n",
      "F ( yellow_room & F ( purple_room ) )\n",
      "F ( third_floor & F ( orange_room ) )\n",
      "F ( landmark_1 ) & G ( second_floor )\n",
      "F ( landmark_3 ) & G ( second_floor )\n",
      "F ( first_floor & F ( purple_room ) )\n",
      "F ( third_floor & F ( first_floor ) )\n",
      "F ( landmark_1 & F ( second_floor ) )\n",
      "F ( first_floor & F ( orange_room ) )\n",
      "F ( orange_room & F ( first_floor ) )\n",
      "F ( purple_room & F ( third_floor ) )\n",
      "F ( orange_room ) & G ( first_floor )\n",
      "F ( second_floor & F ( landmark_1 ) )\n",
      "F ( green_room & F ( second_floor ) )\n",
      "F ( purple_room & F ( first_floor ) )\n",
      "F ( second_floor & F ( landmark_2 ) )\n",
      "F ( purple_room & F ( orange_room ) )\n",
      "F ( yellow_room ) & G ( first_floor )\n",
      "F ( third_floor & F ( yellow_room ) )\n",
      "F ( landmark_3 & F ( second_floor ) )\n",
      "F ( second_floor & F ( yellow_room ) )\n",
      "F ( orange_room ) & G ( second_floor )\n",
      "F ( purple_room & F ( second_floor ) )\n",
      "F ( third_floor & F ( second_floor ) )\n",
      "F ( second_floor & F ( purple_room ) )\n",
      "F ( orange_room & F ( second_floor ) )\n",
      "F ( first_floor & F ( second_floor ) )\n",
      "F ( yellow_room & F ( second_floor ) )\n",
      "F ( yellow_room ) & G ( second_floor )\n",
      "F ( purple_room ) & G ( second_floor )\n",
      "F ( second_floor & F ( orange_room ) )\n",
      "F ( second_floor & F ( first_floor ) )\n"
     ]
    }
   ],
   "source": [
    "for ltl in sorted(unique_ltls, key=lambda x: len(x)):\n",
    "    print(ltl)"
   ]
  },
  {
   "cell_type": "code",
   "execution_count": 4,
   "metadata": {},
   "outputs": [
    {
     "name": "stdout",
     "output_type": "stream",
     "text": [
      "Drone-planning Domain, with augmentation\n",
      "Number of Data Points 6185\n",
      "Number of unique LTL expressions: 355\n",
      "Number of unique LTL structures: 5\n"
     ]
    }
   ],
   "source": [
    "print(\"Drone-planning Domain, with augmentation\")\n",
    "print(\"Number of Data Points\", len(DPs))\n",
    "print(\"Number of unique LTL expressions:\", len(unique_ltls))\n",
    "print(\"Number of unique LTL structures:\", 5)"
   ]
  },
  {
   "cell_type": "markdown",
   "metadata": {},
   "source": [
    "F ( AP )\n",
    "- Go to AP\n",
    "\n",
    "F ( AP1 & F ( AP2 ) )\n",
    "- First go to AP1 and then to AP2\n",
    "\n",
    "\n",
    "F ( AP1 ) & G ( AP2 )\n",
    "- Go to AP1 and Always in AP2\n",
    "\n",
    "\n",
    "F ( AP1 ) & ~ ( AP2 )\n",
    "- Go to AP1 and avoid AP2 \n",
    "\n",
    "~ ( AP1 ) U ( AP2 )\n",
    "- avoid going through AP1 until go through AP2\n"
   ]
  },
  {
   "cell_type": "markdown",
   "metadata": {},
   "source": [
    "## Clean up LTL expressions "
   ]
  },
  {
   "cell_type": "code",
   "execution_count": 5,
   "metadata": {},
   "outputs": [],
   "source": [
    "ori_aps = set()\n",
    "for unique_ltl in unique_ltls:\n",
    "    ori_aps.update(unique_ltl.split())"
   ]
  },
  {
   "cell_type": "code",
   "execution_count": 6,
   "metadata": {},
   "outputs": [
    {
     "data": {
      "text/plain": [
       "{'&',\n",
       " '(',\n",
       " ')',\n",
       " 'F',\n",
       " 'G',\n",
       " 'U',\n",
       " 'blue_room',\n",
       " 'first_floor',\n",
       " 'green_room',\n",
       " 'landmark_1',\n",
       " 'landmark_2',\n",
       " 'landmark_3',\n",
       " 'orange_room',\n",
       " 'purple_room',\n",
       " 'red_room',\n",
       " 'second_floor',\n",
       " 'third_floor',\n",
       " 'yellow_room',\n",
       " '~'}"
      ]
     },
     "execution_count": 6,
     "metadata": {},
     "output_type": "execute_result"
    }
   ],
   "source": [
    "ori_aps"
   ]
  },
  {
   "cell_type": "code",
   "execution_count": 7,
   "metadata": {},
   "outputs": [],
   "source": [
    "APs = [\n",
    "    {'ap': 'blue_room', 'eng': 'the blue room'},\n",
    "    {'ap': 'green_room', 'eng': 'the green room'},\n",
    "    {'ap': 'orange_room', 'eng': 'the orange room'},\n",
    "    {'ap': 'purple_room', 'eng': 'the purple room'},\n",
    "    {'ap': 'red_room', 'eng': 'the red room'},\n",
    "    {'ap': 'yellow_room', 'eng': 'the yellow room'},\n",
    "    {'ap': 'first_floor', 'eng': 'the first floor'},\n",
    "    {'ap': 'second_floor', 'eng': 'the second floor'},\n",
    "    {'ap': 'third_floor', 'eng': 'the third floor'},\n",
    "    {'ap': 'landmark_1', 'eng': 'landmark 1'},\n",
    "    {'ap': 'landmark_2', 'eng': 'landmark 2'},\n",
    "    {'ap': 'landmark_3', 'eng': 'landmark 3'},\n",
    "]"
   ]
  },
  {
   "cell_type": "code",
   "execution_count": 9,
   "metadata": {},
   "outputs": [],
   "source": [
    "# from the translator\n",
    "def build_type_A(ap1):\n",
    "    raw_ltl = f\"F ( {ap1['ap']} )\"\n",
    "    raw_ltl = f\"F ( {ap1['ap']} )\"\n",
    "    canonical_ltl = f\"finally ( {ap1['eng']} )\"\n",
    "    translated = f\"go to {ap1['eng']}\"\n",
    "    return {\n",
    "        'raw_ltl': raw_ltl,\n",
    "        'canonical_ltl': canonical_ltl,\n",
    "        'eng': translated}\n",
    "\n",
    "def build_type_B(room_1, room_2):\n",
    "    raw_ltl = f\"F ( {room_1['ap']} & F ( {room_2['ap']} ) )\"\n",
    "    canonical_ltl = f\"finally ( and ( {room_1['eng']} , finally ( {room_2['eng']} ) ) )\"\n",
    "    translated = f\"go to {room_1['eng']}, and then {room_2['eng']} at last\"\n",
    "    return {\n",
    "        'raw_ltl': raw_ltl,\n",
    "        'canonical_ltl': canonical_ltl,\n",
    "        'eng': translated}\n",
    "\n",
    "def build_type_C(room_1, room_2):\n",
    "    raw_ltl = f\"F ( {room_1['ap']} ) & G ( {room_2['ap']} )\"\n",
    "    canonical_ltl = f\"and ( finally ( {room_1['eng']} ) , always ( {room_2['eng']} ) )\"\n",
    "    translated = f\"go to {room_1['eng']} at last, and always stay in {room_2['eng']}\"\n",
    "    return {\n",
    "        'raw_ltl': raw_ltl,\n",
    "        'canonical_ltl': canonical_ltl,\n",
    "        'eng': translated}\n",
    "\n",
    "def build_type_D(room_1, room_2):\n",
    "    raw_ltl = f\"F ( {room_1['ap']} & ~ {room_2['ap']} )\"\n",
    "    canonical_ltl = f\"finally ( and ( {room_1['eng']} , not ( {room_2['eng']} ) ) )\"\n",
    "    translated = f\"go to {room_1['eng']} at last, and avoid {room_2['eng']}\"\n",
    "    return {\n",
    "        'raw_ltl': raw_ltl,\n",
    "        'canonical_ltl': canonical_ltl,\n",
    "        'eng': translated}\n",
    "\n",
    "def build_type_E(room_1, room_2):\n",
    "    raw_ltl = f\"~ ( {room_1['ap']} ) U ( {room_2['ap']} )\"\n",
    "    canonical_ltl = f\"until ( not ( {room_1['eng']} ) , {room_2['eng']} )\"\n",
    "    translated = f\"avoid go to {room_1['eng']} until go to {room_2['eng']}\"\n",
    "    return {\n",
    "        'raw_ltl': raw_ltl,\n",
    "        'canonical_ltl': canonical_ltl,\n",
    "        'eng': translated}"
   ]
  },
  {
   "cell_type": "code",
   "execution_count": 10,
   "metadata": {},
   "outputs": [],
   "source": [
    "translation_seeds = []\n",
    "for r1 in APs:\n",
    "    translation_seeds.append(build_type_A(r1))\n",
    "    for r2 in APs:\n",
    "        if r1 == r2:\n",
    "            continue\n",
    "        translation_seeds.append(build_type_B(r1, r2))\n",
    "        translation_seeds.append(build_type_C(r1, r2))\n",
    "        translation_seeds.append(build_type_D(r1, r2))\n",
    "        translation_seeds.append(build_type_E(r1, r2))"
   ]
  },
  {
   "cell_type": "code",
   "execution_count": 11,
   "metadata": {},
   "outputs": [
    {
     "name": "stdout",
     "output_type": "stream",
     "text": [
      "540\n"
     ]
    }
   ],
   "source": [
    "print(len(translation_seeds))"
   ]
  },
  {
   "cell_type": "code",
   "execution_count": 12,
   "metadata": {},
   "outputs": [
    {
     "name": "stdout",
     "output_type": "stream",
     "text": [
      "set()\n"
     ]
    }
   ],
   "source": [
    "seed_ltls = set([t['raw_ltl'] for t in translation_seeds])\n",
    "print(unique_ltls - seed_ltls)"
   ]
  },
  {
   "cell_type": "markdown",
   "metadata": {},
   "source": [
    "### Save the canonical decoding list"
   ]
  },
  {
   "cell_type": "code",
   "execution_count": 13,
   "metadata": {},
   "outputs": [],
   "source": [
    "possible_decodings = {}\n",
    "for seed in translation_seeds:\n",
    "    canonical = seed['canonical_ltl']\n",
    "    possible_decodings[canonical] = {\n",
    "        'formula': canonical,\n",
    "        'raw': seed['raw_ltl'],\n",
    "    }"
   ]
  },
  {
   "cell_type": "code",
   "execution_count": 14,
   "metadata": {},
   "outputs": [],
   "source": [
    "with open(\"canonical.json\", 'w') as f:\n",
    "    f.write(json.dumps(possible_decodings, indent=2))"
   ]
  },
  {
   "cell_type": "markdown",
   "metadata": {},
   "source": [
    "### Save translation seed for zero shot"
   ]
  },
  {
   "cell_type": "code",
   "execution_count": 15,
   "metadata": {},
   "outputs": [],
   "source": [
    "with open(\"train_seed.jsonl\", \"w\") as f:\n",
    "    for dp in translation_seeds:\n",
    "        better_ltl = dp['canonical_ltl']\n",
    "        entry = {'canonical': better_ltl, 'formula': better_ltl, 'natural': dp['eng']}\n",
    "        json.dump(entry, f)\n",
    "        f.write('\\n')"
   ]
  },
  {
   "cell_type": "markdown",
   "metadata": {},
   "source": [
    "### Save golden data for evaluation  "
   ]
  },
  {
   "cell_type": "code",
   "execution_count": 16,
   "metadata": {},
   "outputs": [],
   "source": [
    "raw_canonical_mapping = {\n",
    "    seed['raw_ltl']: seed['canonical_ltl'] for seed in translation_seeds\n",
    "}"
   ]
  },
  {
   "cell_type": "code",
   "execution_count": 17,
   "metadata": {},
   "outputs": [
    {
     "data": {
      "text/plain": [
       "6185"
      ]
     },
     "execution_count": 17,
     "metadata": {},
     "output_type": "execute_result"
    }
   ],
   "source": [
    "len(DPs)"
   ]
  },
  {
   "cell_type": "code",
   "execution_count": 18,
   "metadata": {},
   "outputs": [
    {
     "data": {
      "text/plain": [
       "{'ltl': '~ ( purple_room ) U ( third_floor )',\n",
       " 'eng': 'go to the twond floor avoiding the purple room . if you reached the third floor you can stay there , or head to the purple room .'}"
      ]
     },
     "execution_count": 18,
     "metadata": {},
     "output_type": "execute_result"
    }
   ],
   "source": [
    "DPs[0]"
   ]
  },
  {
   "cell_type": "code",
   "execution_count": 19,
   "metadata": {},
   "outputs": [],
   "source": [
    "with open(\"golden.jsonl\", \"w\") as f:\n",
    "    for dp in DPs:\n",
    "        entry = {\n",
    "            'canonical': raw_canonical_mapping[dp['ltl']],\n",
    "            'formula': raw_canonical_mapping[dp['ltl']],\n",
    "            'natural': dp['eng'],\n",
    "            'raw_ltl': dp['ltl'],\n",
    "        }\n",
    "        json.dump(entry, f)\n",
    "        f.write('\\n')"
   ]
  },
  {
   "cell_type": "code",
   "execution_count": null,
   "metadata": {},
   "outputs": [],
   "source": []
  }
 ],
 "metadata": {
  "kernelspec": {
   "display_name": "Python 3.9.12 ('GPML')",
   "language": "python",
   "name": "python3"
  },
  "language_info": {
   "codemirror_mode": {
    "name": "ipython",
    "version": 3
   },
   "file_extension": ".py",
   "mimetype": "text/x-python",
   "name": "python",
   "nbconvert_exporter": "python",
   "pygments_lexer": "ipython3",
   "version": "3.9.12"
  },
  "orig_nbformat": 4,
  "vscode": {
   "interpreter": {
    "hash": "92a84f77637d1d47b588cbbaac9b07f8c628b67f58e672e955ed4902878afbbe"
   }
  }
 },
 "nbformat": 4,
 "nbformat_minor": 2
}
